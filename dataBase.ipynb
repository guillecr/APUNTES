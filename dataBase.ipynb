{
 "metadata": {
  "language_info": {
   "codemirror_mode": {
    "name": "ipython",
    "version": 3
   },
   "file_extension": ".py",
   "mimetype": "text/x-python",
   "name": "python",
   "nbconvert_exporter": "python",
   "pygments_lexer": "ipython3",
   "version": "3.8.3-final"
  },
  "orig_nbformat": 2,
  "kernelspec": {
   "name": "python3",
   "display_name": "Python 3"
  }
 },
 "nbformat": 4,
 "nbformat_minor": 2,
 "cells": [
  {
   "source": [
    "# SQLite 3\n",
    "Python en su nucleo ya tiene la libreria incorporada"
   ],
   "cell_type": "markdown",
   "metadata": {}
  },
  {
   "cell_type": "code",
   "execution_count": 1,
   "metadata": {},
   "outputs": [],
   "source": [
    "import sqlite3\n",
    "conn = sqlite3.connect(\"test.db\") # Si no existe la creará\n",
    "sql = \"CREATE TABLE prueba (id INT,nombre CHAR(50),edad INT,email CHAR(60),PRIMARY KEY(id))\"\n",
    "cursor = conn.cursor()\n",
    "cursor.execute(sql)\n",
    "conn.commit()\n",
    "conn.close()"
   ]
  },
  {
   "cell_type": "code",
   "execution_count": 2,
   "metadata": {},
   "outputs": [],
   "source": [
    "import sqlite3\n",
    "conn = sqlite3.connect(\"test.db\")\n",
    "cursor = conn.cursor()\n",
    "sql = \"INSERT INTO prueba (id,nombre,edad,email) VALUES (1,'Guillermo',26,'guille@email.com')\"\n",
    "cursor.execute(sql)\n",
    "cursor.close()\n",
    "conn.commit()\n",
    "conn.close()\n",
    "\n"
   ]
  },
  {
   "source": [
    "### Leer la tabla y recolerlo solo 1"
   ],
   "cell_type": "markdown",
   "metadata": {}
  },
  {
   "cell_type": "code",
   "execution_count": 3,
   "metadata": {},
   "outputs": [
    {
     "output_type": "stream",
     "name": "stdout",
     "text": [
      "(1, 'Guillermo', 26, 'guille@email.com')\n"
     ]
    }
   ],
   "source": [
    "\n",
    "conn = sqlite3.connect(\"test.db\")\n",
    "cursor = conn.cursor()\n",
    "cursor.execute(\"SELECT*FROM prueba\")\n",
    "prueba = cursor.fetchone()\n",
    "print(prueba)\n",
    "conn.commit()\n",
    "conn.close()"
   ]
  },
  {
   "source": [
    "Hacer una ejecución de varios"
   ],
   "cell_type": "markdown",
   "metadata": {}
  },
  {
   "cell_type": "code",
   "execution_count": 7,
   "metadata": {},
   "outputs": [],
   "source": [
    "pruebas = [\n",
    "    (2,\"Sandra\",22,\"sandra@email.com\"),\n",
    "    (3,\"Levis\",2,\"levis@email.com\"),\n",
    "    (4,\"Nala\",8,\"nala@email.com\")\n",
    "]\n",
    "\n",
    "conn = sqlite3.connect(\"test.db\")\n",
    "cursor = conn.cursor()\n",
    "cursor.executemany(\"INSERT INTO prueba (id,nombre,edad,email) VALUES (?,?,?,?)\",pruebas)\n",
    "conn.commit()\n",
    "conn.close()"
   ]
  },
  {
   "cell_type": "code",
   "execution_count": 8,
   "metadata": {},
   "outputs": [
    {
     "output_type": "stream",
     "name": "stdout",
     "text": [
      "(1, 'Guillermo', 26, 'guille@email.com')\n(2, 'Sandra', 22, 'sandra@email.com')\n(3, 'Levis', 2, 'levis@email.com')\n(4, 'Nala', 8, 'nala@email.com')\n"
     ]
    }
   ],
   "source": [
    "conn = sqlite3.connect(\"test.db\")\n",
    "cursor = conn.cursor()\n",
    "cursor.execute(\"SELECT*FROM prueba\")\n",
    "pruebaLista = cursor.fetchall()\n",
    "for prueba in pruebaLista:\n",
    "    print(prueba)\n",
    "conn.commit()\n",
    "conn.close()"
   ]
  },
  {
   "source": [
    "# Ejercicio\n",
    "Pasar de la base de datos a un archivo de texto"
   ],
   "cell_type": "markdown",
   "metadata": {}
  }
 ]
}