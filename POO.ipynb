{
 "metadata": {
  "language_info": {
   "codemirror_mode": {
    "name": "ipython",
    "version": 3
   },
   "file_extension": ".py",
   "mimetype": "text/x-python",
   "name": "python",
   "nbconvert_exporter": "python",
   "pygments_lexer": "ipython3",
   "version": "3.8.3-final"
  },
  "orig_nbformat": 2,
  "kernelspec": {
   "name": "python3",
   "display_name": "Python 3"
  }
 },
 "nbformat": 4,
 "nbformat_minor": 2,
 "cells": [
  {
   "source": [
    "# Programación orientada a objetos\n",
    "Creación de una clase"
   ],
   "cell_type": "markdown",
   "metadata": {}
  },
  {
   "cell_type": "code",
   "execution_count": 1,
   "metadata": {},
   "outputs": [],
   "source": [
    "class Galleta:\n",
    "    pass#Esto es solo para que cree una clase vacia"
   ]
  },
  {
   "source": [
    "Instanciar la clase. En este caso, el objeto esta vacio. Miramos el tipo para ver que es un objeto de la clase Galleta"
   ],
   "cell_type": "markdown",
   "metadata": {}
  },
  {
   "cell_type": "code",
   "execution_count": 4,
   "metadata": {},
   "outputs": [
    {
     "output_type": "execute_result",
     "data": {
      "text/plain": [
       "__main__.Galleta"
      ]
     },
     "metadata": {},
     "execution_count": 4
    }
   ],
   "source": [
    "maria1 = Galleta()\n",
    "type(maria1)"
   ]
  },
  {
   "source": [
    "Añadir atributos dinamicos (externos)"
   ],
   "cell_type": "markdown",
   "metadata": {}
  },
  {
   "cell_type": "code",
   "execution_count": 5,
   "metadata": {},
   "outputs": [
    {
     "output_type": "execute_result",
     "data": {
      "text/plain": [
       "'Chocolate'"
      ]
     },
     "metadata": {},
     "execution_count": 5
    }
   ],
   "source": [
    "maria1.sabor = \"Chocolate\"\n",
    "maria1.sabor"
   ]
  },
  {
   "source": [
    "Creación de una clase con atributos predefinido"
   ],
   "cell_type": "markdown",
   "metadata": {}
  },
  {
   "cell_type": "code",
   "execution_count": 7,
   "metadata": {},
   "outputs": [
    {
     "output_type": "execute_result",
     "data": {
      "text/plain": [
       "False"
      ]
     },
     "metadata": {},
     "execution_count": 7
    }
   ],
   "source": [
    "class Galleta:\n",
    "    chocolate = False\n",
    "    cobertura = True\n",
    "\n",
    "\n",
    "g = Galleta()\n",
    "g.chocolate"
   ]
  },
  {
   "source": [
    "Podemos indicar funciones que se hagan al instanciar una clase. Para ello, la funcion que vayamos a definir debe de ser __init__(self)\n",
    "Es parecido a un constructor en Java, ya que en ello podemos pasarle parametros"
   ],
   "cell_type": "markdown",
   "metadata": {}
  },
  {
   "cell_type": "code",
   "execution_count": 10,
   "metadata": {},
   "outputs": [
    {
     "output_type": "stream",
     "name": "stdout",
     "text": [
      "Galleta horneada\n"
     ]
    },
    {
     "output_type": "execute_result",
     "data": {
      "text/plain": [
       "True"
      ]
     },
     "metadata": {},
     "execution_count": 10
    }
   ],
   "source": [
    "class Galleta:\n",
    "    chocolate = False\n",
    "    cobertura = \"\"\n",
    "    def __init__(self,cob):\n",
    "        print(\"Galleta horneada\")\n",
    "        self.cobertura = cob\n",
    "\n",
    "g2 = Galleta(True)\n",
    "g2.cobertura"
   ]
  },
  {
   "source": [
    "Metodos dentro de una clase y modificar sus propios atributos"
   ],
   "cell_type": "markdown",
   "metadata": {}
  },
  {
   "cell_type": "code",
   "execution_count": 16,
   "metadata": {},
   "outputs": [
    {
     "output_type": "stream",
     "name": "stdout",
     "text": [
      "Galleta horneada\n"
     ]
    },
    {
     "output_type": "execute_result",
     "data": {
      "text/plain": [
       "True"
      ]
     },
     "metadata": {},
     "execution_count": 16
    }
   ],
   "source": [
    "class Galleta:\n",
    "    chocolate = False\n",
    "    cobertura = True\n",
    "    def __init__(self):\n",
    "        print(\"Galleta horneada\")\n",
    "\n",
    "    def chocolateame(self):\n",
    "        self.chocolate = True\n",
    "\n",
    "g3 = Galleta()\n",
    "g3.chocolateame()\n",
    "g3.chocolate"
   ]
  },
  {
   "cell_type": "code",
   "execution_count": 18,
   "metadata": {},
   "outputs": [
    {
     "output_type": "stream",
     "name": "stdout",
     "text": [
      "Galleta horneada\nNo tiene chocolate.... usa <objeto>.chocolateame() ;)\n"
     ]
    }
   ],
   "source": [
    "class Galleta:\n",
    "    chocolate = False\n",
    "    cobertura = True\n",
    "    def __init__(self):\n",
    "        print(\"Galleta horneada\")\n",
    "\n",
    "    def chocolateame(self):\n",
    "        self.chocolate = True\n",
    "    def tienechoco(self):\n",
    "        if(self.chocolate):\n",
    "            print(\"Tiene chocolate\")\n",
    "        else:\n",
    "            print(\"No tiene chocolate.... usa <objeto>.chocolateame() ;)\")\n",
    "\n",
    "g4 = Galleta()\n",
    "g4.tienechoco()"
   ]
  },
  {
   "cell_type": "code",
   "execution_count": 22,
   "metadata": {},
   "outputs": [
    {
     "output_type": "stream",
     "name": "stdout",
     "text": [
      "Galleta horneada de 4€\n"
     ]
    }
   ],
   "source": [
    "class Galleta:\n",
    "    chocolate = False\n",
    "    cobertura = True\n",
    "    def __init__(self,precio=None):\n",
    "        self.precio = precio\n",
    "        print(\"Galleta horneada de {}€\".format(precio))\n",
    "\n",
    "    def chocolateame(self):\n",
    "        self.chocolate = True\n",
    "    def tienechoco(self):\n",
    "        if(self.chocolate):\n",
    "            print(\"Tiene chocolate\")\n",
    "        else:\n",
    "            print(\"No tiene chocolate.... usa <objeto>.chocolateame() ;)\")\n",
    "\n",
    "g5 = Galleta(4)"
   ]
  },
  {
   "source": [
    "## Ejercicio"
   ],
   "cell_type": "markdown",
   "metadata": {}
  },
  {
   "cell_type": "code",
   "execution_count": 96,
   "metadata": {},
   "outputs": [
    {
     "output_type": "stream",
     "name": "stdout",
     "text": [
      "Pelicula creada => Titulo: Cadena perpetua, Duración:140, Año: 1994\n"
     ]
    },
    {
     "output_type": "execute_result",
     "data": {
      "text/plain": [
       "140"
      ]
     },
     "metadata": {},
     "execution_count": 96
    }
   ],
   "source": [
    "class Pelicula:\n",
    "    titulo=str()\n",
    "    duracion=int()\n",
    "    year=str()\n",
    "    def __init__(self,titulo=None,duracion=None,year=None):\n",
    "        self.titulo = titulo\n",
    "        self.duracion = duracion\n",
    "        self.year = year\n",
    "        if (self.titulo==None or self.duracion==None or self.year==None):\n",
    "            print(\"Faltan parámetros...\")\n",
    "            \n",
    "        print(\"Pelicula creada => Titulo: {}, Duración:{}, Año: {}\".format(titulo,duracion,year))\n",
    "    def __del__(self):\n",
    "        print(\"Eliminado la pelicula\")\n",
    "    def __str__(self):\n",
    "        return(\"Titulo: {}, Duración:{}, Año: {}\".format(self.titulo,self.duracion,self.year))\n",
    "    def __len__(self):\n",
    "        return self.duracion\n",
    "\n",
    "\n",
    "peli1 = Pelicula(\"Cadena perpetua\",140,\"1994\")\n",
    "peli1.__str__()\n",
    "str(peli1)\n",
    "len(peli1)\n"
   ]
  },
  {
   "cell_type": "code",
   "execution_count": 102,
   "metadata": {},
   "outputs": [
    {
     "output_type": "stream",
     "name": "stdout",
     "text": [
      "Pelicula: Django Desencadenado\nPelicula: Cadena perpetua\n====\nPelicula: Django Desencadenado\nPelicula: Cadena perpetua\nPelicula: Scarface\n"
     ]
    }
   ],
   "source": [
    "class Film:\n",
    "    def __init__(self,titulo,duracion,estreno):\n",
    "        self.titulo = titulo\n",
    "        self.duracion = duracion\n",
    "        self.estreno = estreno\n",
    "    def __str__(self):\n",
    "        return(\"Titulo: {}, Duración:{}, Año: {}\".format(self.titulo,self.duracion,self.year))\n",
    "    def __len__(self):\n",
    "        return self.duracion\n",
    "\n",
    "class Cartelera:\n",
    "    peliculas = []\n",
    "    def __init__(self,peliculas=[]):\n",
    "        self.peliculas = peliculas\n",
    "\n",
    "    def newFilm(self,p):\n",
    "        self.peliculas.append(p)\n",
    "\n",
    "    def viewFilm(self):\n",
    "        for p in self.peliculas:\n",
    "            print(\"Pelicula: {}\".format(p.titulo))\n",
    "\n",
    "\n",
    "f1 = Film(\"Django Desencadenado\",160,1992)\n",
    "f2 = Film(\"Cadena perpetua\",140,1994)\n",
    "\n",
    "c = Cartelera([f1,f2])\n",
    "c.viewFilm()\n",
    "c.newFilm(Film(\"Scarface\",130,1989))\n",
    "print(\"====\")\n",
    "c.viewFilm()\n"
   ]
  }
 ]
}