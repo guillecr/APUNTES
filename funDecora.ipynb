{
 "metadata": {
  "language_info": {
   "codemirror_mode": {
    "name": "ipython",
    "version": 3
   },
   "file_extension": ".py",
   "mimetype": "text/x-python",
   "name": "python",
   "nbconvert_exporter": "python",
   "pygments_lexer": "ipython3",
   "version": 3
  },
  "orig_nbformat": 2
 },
 "nbformat": 4,
 "nbformat_minor": 2,
 "cells": [
  {
   "source": [
    "# Funciones decoradoras <3\n",
    "Es una funcion que envuelven la ejecucion de otra funcion y nos permite añadir funciones a esa funcion que envuelve.\n",
    "Para ver la logica lo mejor es pensar en un array de 2 dimensiones. Para acceder a un valor en concreto es mapa\\[n]\\[n].\n",
    "Aqui es similar, la funcion monitorizar(hola) devuelve una función, por lo que para indicar que es una función le añadimos los otros (). \n",
    "el @ permte vincular la funcion a una decoración. De esa manera, al llamar la función no hay que escribir la linea \"monitorizarArg(hola)(Nombre)\""
   ],
   "cell_type": "markdown",
   "metadata": {}
  },
  {
   "cell_type": "code",
   "execution_count": null,
   "metadata": {},
   "outputs": [],
   "source": [
    "def monitorizarArg(funcion):\n",
    "    def decorar(*arg,**argB):\n",
    "        print(\"\\tSe va a ejecutar la función: \", funcion.__name__)\n",
    "        funcion(*arg,**argB)\n",
    "        print(\"\\tSe ha ejecutado la función: \", funcion.__name__)\n",
    "    return decorar # Le devolvemos la función decorada. \n",
    "    \n",
    "@monitorizarArg\n",
    "def hola(nombre):\n",
    "    print(\"Hola {}!\".format(nombre))\n",
    "\n",
    "@monitorizarArg\n",
    "def adios(nombre):\n",
    "    print(\"Adios {}!\".format(nombre))\n",
    "\n",
    "\n",
    "adios(\"Guille\")"
   ]
  }
 ]
}