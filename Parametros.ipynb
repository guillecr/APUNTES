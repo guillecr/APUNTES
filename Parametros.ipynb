{
 "metadata": {
  "language_info": {
   "codemirror_mode": {
    "name": "ipython",
    "version": 3
   },
   "file_extension": ".py",
   "mimetype": "text/x-python",
   "name": "python",
   "nbconvert_exporter": "python",
   "pygments_lexer": "ipython3",
   "version": "3.8.3-final"
  },
  "orig_nbformat": 2,
  "kernelspec": {
   "name": "python3",
   "display_name": "Python 3",
   "language": "python"
  }
 },
 "nbformat": 4,
 "nbformat_minor": 2,
 "cells": [
  {
   "source": [
    "# Parametros indeterminados\n",
    "Cuando queremos definir una funcion pero no sabemos el numero de parametros que recogerá\n",
    "## Indeterminados unicos\n",
    "Generará una lista con todos los parametros pasados"
   ],
   "cell_type": "markdown",
   "metadata": {}
  },
  {
   "cell_type": "code",
   "execution_count": 4,
   "metadata": {},
   "outputs": [
    {
     "output_type": "error",
     "ename": "TypeError",
     "evalue": "tuple indices must be integers or slices, not str",
     "traceback": [
      "\u001b[0;31m---------------------------------------------------------------------------\u001b[0m",
      "\u001b[0;31mTypeError\u001b[0m                                 Traceback (most recent call last)",
      "\u001b[0;32m<ipython-input-4-589facf0a24c>\u001b[0m in \u001b[0;36m<module>\u001b[0;34m\u001b[0m\n\u001b[1;32m      4\u001b[0m \u001b[0;34m\u001b[0m\u001b[0m\n\u001b[1;32m      5\u001b[0m \u001b[0;34m\u001b[0m\u001b[0m\n\u001b[0;32m----> 6\u001b[0;31m \u001b[0mcontenedor\u001b[0m\u001b[0;34m(\u001b[0m\u001b[0;34m\"Hola\"\u001b[0m\u001b[0;34m,\u001b[0m\u001b[0;36m2\u001b[0m\u001b[0;34m,\u001b[0m\u001b[0;32mTrue\u001b[0m\u001b[0;34m,\u001b[0m\u001b[0;36m2.98\u001b[0m\u001b[0;34m)\u001b[0m\u001b[0;34m\u001b[0m\u001b[0;34m\u001b[0m\u001b[0m\n\u001b[0m",
      "\u001b[0;32m<ipython-input-4-589facf0a24c>\u001b[0m in \u001b[0;36mcontenedor\u001b[0;34m(*cosas)\u001b[0m\n\u001b[1;32m      1\u001b[0m \u001b[0;32mdef\u001b[0m \u001b[0mcontenedor\u001b[0m\u001b[0;34m(\u001b[0m\u001b[0;34m*\u001b[0m\u001b[0mcosas\u001b[0m\u001b[0;34m)\u001b[0m\u001b[0;34m:\u001b[0m\u001b[0;34m\u001b[0m\u001b[0;34m\u001b[0m\u001b[0m\n\u001b[1;32m      2\u001b[0m     \u001b[0;32mfor\u001b[0m \u001b[0marg\u001b[0m \u001b[0;32min\u001b[0m \u001b[0mcosas\u001b[0m\u001b[0;34m:\u001b[0m\u001b[0;34m\u001b[0m\u001b[0;34m\u001b[0m\u001b[0m\n\u001b[0;32m----> 3\u001b[0;31m         \u001b[0mprint\u001b[0m\u001b[0;34m(\u001b[0m\u001b[0;34m\"Parametros\"\u001b[0m\u001b[0;34m,\u001b[0m\u001b[0mcosas\u001b[0m\u001b[0;34m[\u001b[0m\u001b[0marg\u001b[0m\u001b[0;34m]\u001b[0m\u001b[0;34m)\u001b[0m\u001b[0;34m\u001b[0m\u001b[0;34m\u001b[0m\u001b[0m\n\u001b[0m\u001b[1;32m      4\u001b[0m \u001b[0;34m\u001b[0m\u001b[0m\n\u001b[1;32m      5\u001b[0m \u001b[0;34m\u001b[0m\u001b[0m\n",
      "\u001b[0;31mTypeError\u001b[0m: tuple indices must be integers or slices, not str"
     ]
    }
   ],
   "source": [
    "def contenedor(*cosas):\n",
    "    for ind, arg in enumerate(cosas):\n",
    "        print(\"Parametros\",cosas[ind])\n",
    "\n",
    "\n",
    "contenedor(\"Hola\",2,True,2.98)"
   ]
  },
  {
   "source": [
    "## Indeterminados multiples\n",
    "En este caso, generará una biblioteca (Clave Valor) en el cual los parametros se lo entregaremos con una clave igualada a su valor.\n",
    "funcion(Clave=valor)"
   ],
   "cell_type": "markdown",
   "metadata": {}
  },
  {
   "cell_type": "code",
   "execution_count": 1,
   "metadata": {},
   "outputs": [
    {
     "output_type": "stream",
     "name": "stdout",
     "text": [
      "Parametros Hola\nParametros 2\nParametros True\nParametros 2.98\n"
     ]
    }
   ],
   "source": [
    "def contenedor(**cosas):\n",
    "    for arg in cosas:\n",
    "        print(\"Parametros\",cosas[arg])\n",
    "\n",
    "\n",
    "contenedor(a=\"Hola\",b=2,c=True,d=2.98)"
   ]
  },
  {
   "source": [
    "## Combinación de las 2\n",
    "En este ejemplo vemos que podemos mezclar las 2 metologias. Sin embargo debemot tener en cuenta el orden que marquemos al definir la función. Aquí nuestra función recogera primero los parametros indeterminados unicos y luego los dobles. La limitación es que no pueden venir desordenados."
   ],
   "cell_type": "markdown",
   "metadata": {}
  },
  {
   "cell_type": "code",
   "execution_count": 3,
   "metadata": {},
   "outputs": [
    {
     "output_type": "stream",
     "name": "stdout",
     "text": [
      "De la lista\nHola\n20\nDiccionario\nClave a // Valor 12\nClave b // Valor adios\n"
     ]
    }
   ],
   "source": [
    "def contenedor(*cos,**cosas):\n",
    "    print(\"De la lista\")\n",
    "    for arg in cos:\n",
    "        print(arg)\n",
    "    print(\"Diccionario\")\n",
    "    for arg in cosas:\n",
    "        print(\"Clave {} // Valor {}\".format(arg,cosas[arg]))\n",
    "\n",
    "contenedor(\"Hola\",20,a=12,b=\"adios\")"
   ]
  },
  {
   "cell_type": "code",
   "execution_count": null,
   "metadata": {},
   "outputs": [],
   "source": [
    "def bomba(num):\n",
    "    num -=1\n",
    "    if num>0:\n",
    "        print(num)\n",
    "        bomba(num)\n",
    "    else:\n",
    "        print(\"BUM\")\n",
    "\n",
    "bomba(10)"
   ]
  }
 ]
}