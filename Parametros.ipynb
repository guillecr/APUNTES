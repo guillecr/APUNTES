{
 "metadata": {
  "language_info": {
   "codemirror_mode": {
    "name": "ipython",
    "version": 3
   },
   "file_extension": ".py",
   "mimetype": "text/x-python",
   "name": "python",
   "nbconvert_exporter": "python",
   "pygments_lexer": "ipython3",
   "version": "3.8.3-final"
  },
  "orig_nbformat": 2,
  "kernelspec": {
   "name": "python3",
   "display_name": "Python 3",
   "language": "python"
  }
 },
 "nbformat": 4,
 "nbformat_minor": 2,
 "cells": [
  {
   "source": [
    "# Parametros indeterminados\n",
    "Cuando queremos definir una funcion pero no sabemos el numero de parametros que recogerá\n",
    "## Indeterminados unicos\n",
    "Generará una lista con todos los parametros pasados"
   ],
   "cell_type": "markdown",
   "metadata": {}
  },
  {
   "cell_type": "code",
   "execution_count": 6,
   "metadata": {},
   "outputs": [
    {
     "output_type": "stream",
     "name": "stdout",
     "text": [
      "Parametro 0 -> Hola\nParametro 1 -> 2\nParametro 2 -> True\nParametro 3 -> 2.98\n"
     ]
    }
   ],
   "source": [
    "def contenedor(*cosas):\n",
    "    for ind, arg in enumerate(cosas):\n",
    "        print(\"Parametro {} -> {}\".format(ind,arg))\n",
    "\n",
    "\n",
    "contenedor(\"Hola\",2,True,2.98)"
   ]
  },
  {
   "source": [
    "## Indeterminados multiples\n",
    "En este caso, generará una biblioteca (Clave Valor) en el cual los parametros se lo entregaremos con una clave igualada a su valor.\n",
    "funcion(Clave=valor)"
   ],
   "cell_type": "markdown",
   "metadata": {}
  },
  {
   "cell_type": "code",
   "execution_count": 8,
   "metadata": {},
   "outputs": [
    {
     "output_type": "stream",
     "name": "stdout",
     "text": [
      "Parametro a -> Hola\nParametro b -> 2\nParametro c -> True\nParametro final -> 2.98\n"
     ]
    }
   ],
   "source": [
    "def contenedor(**cosas):\n",
    "    for arg in cosas:\n",
    "        print(\"Parametro {} -> {}\".format(arg,cosas[arg]))\n",
    "\n",
    "\n",
    "contenedor(a=\"Hola\",b=2,c=True,final=2.98)"
   ]
  },
  {
   "source": [
    "## Combinación de las 2\n",
    "En este ejemplo vemos que podemos mezclar las 2 metologias. Sin embargo debemot tener en cuenta el orden que marquemos al definir la función. Aquí nuestra función recogera primero los parametros indeterminados unicos y luego los dobles. La limitación es que no pueden venir desordenados."
   ],
   "cell_type": "markdown",
   "metadata": {}
  },
  {
   "cell_type": "code",
   "execution_count": 3,
   "metadata": {},
   "outputs": [
    {
     "output_type": "stream",
     "name": "stdout",
     "text": [
      "De la lista\nHola\n20\nDiccionario\nClave a // Valor 12\nClave b // Valor adios\n"
     ]
    }
   ],
   "source": [
    "def contenedor(*cos,**cosas):\n",
    "    print(\"De la lista\")\n",
    "    for arg in cos:\n",
    "        print(arg)\n",
    "    print(\"Diccionario\")\n",
    "    for arg in cosas:\n",
    "        print(\"Clave {} // Valor {}\".format(arg,cosas[arg]))\n",
    "\n",
    "contenedor(\"Hola\",20,a=12,b=\"adios\")"
   ]
  }
 ]
}