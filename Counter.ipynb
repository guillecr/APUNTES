{
 "metadata": {
  "language_info": {
   "codemirror_mode": {
    "name": "ipython",
    "version": 3
   },
   "file_extension": ".py",
   "mimetype": "text/x-python",
   "name": "python",
   "nbconvert_exporter": "python",
   "pygments_lexer": "ipython3",
   "version": "3.8.3-final"
  },
  "orig_nbformat": 2,
  "kernelspec": {
   "name": "python3",
   "display_name": "Python 3",
   "language": "python"
  }
 },
 "nbformat": 4,
 "nbformat_minor": 2,
 "cells": [
  {
   "source": [
    "# Counter\n",
    "Cuenta el numero de repeticiones de un elemento\n",
    "\n",
    "En este ejemplo, con la clave 5 nos dará un 2 porque hay 2 cincos\n",
    "\n",
    "Ideas interesantes:\n",
    "- Una cadena de texto con split() separamos las palabras y por tanto, en vez de contar letras, contamos palabras\n",
    "- La función most_common() nos lo ordena de mayor a menor y podemos indicar cuantos sacar\n",
    "- Si combinamos la función values() (Nos devuelve los valores) con la de sum, podemos contar el numero de repeticiones de todos -> sum(pc.values())\n"
   ],
   "cell_type": "markdown",
   "metadata": {}
  },
  {
   "cell_type": "code",
   "execution_count": 1,
   "metadata": {},
   "outputs": [
    {
     "output_type": "stream",
     "name": "stdout",
     "text": [
      "El mas repetido [('un', 3)]\nEl segundo mas repetido [('un', 3), ('lugar', 2)]\ndict_values([1, 3, 2, 1, 1, 1])\nCounter({5: 2, 1: 1, 2: 1, 3: 1, 4: 1, 6: 1, 7: 1, 8: 1})\nCounter({'un': 3, 'lugar': 2, 'En': 1, 'de': 1, 'la': 1, 'mancha': 1})\n"
     ]
    }
   ],
   "source": [
    "from collections import Counter\n",
    "\n",
    "l = [1,2,3,4,5,6,5,7,8]\n",
    "\n",
    "lC = Counter(l)\n",
    "\n",
    "p = \"En un un un lugar lugar de la mancha\"\n",
    "\n",
    "pC = Counter(p.split())\n",
    "\n",
    "print(\"El mas repetido\",pC.most_common(1)) # Los ordena por los mas repetidos y saca el primero\n",
    "print(\"El segundo mas repetido\",pC.most_common(2)) # Saca los 2 primeros\n",
    "print(pC.values()) # Nos devuelve los valores en una lista\n",
    "\n",
    "print(lC)\n",
    "print(pC)"
   ]
  },
  {
   "source": [
    "## Defaultdic\n",
    "Este modulo, nos permite que todos los elementos de una lista si no existe le atribuya un elemento por defecto.\n",
    "Si nosotros creamos un diccionario y luego queremos estraer el valor de una clave que no exista, Python nos devolverá un error ya que no esta definido. En cambio, si usamos este modulo, si el elemento no existe, le atribuirá el elemento que nosotros hayamos indicado."
   ],
   "cell_type": "markdown",
   "metadata": {}
  },
  {
   "cell_type": "code",
   "execution_count": 12,
   "metadata": {},
   "outputs": [
    {
     "output_type": "stream",
     "name": "stdout",
     "text": [
      "\ndefaultdict(<class 'str'>, {'Sueldo': 18.0})\n"
     ]
    }
   ],
   "source": [
    "from collections import defaultdict\n",
    "\n",
    "d = defaultdict(str)\n",
    "print(d['Sueldo'])\n",
    "\n",
    "d['Sueldo'] = 18.0\n",
    "print(d)"
   ]
  },
  {
   "source": [
    "## OrdenedDict"
   ],
   "cell_type": "markdown",
   "metadata": {}
  },
  {
   "cell_type": "code",
   "execution_count": 23,
   "metadata": {},
   "outputs": [
    {
     "output_type": "stream",
     "name": "stdout",
     "text": [
      "OrderedDict([('dos', 2), ('uno', 1), ('tres', 3)])\nTrue\nTrue\n"
     ]
    }
   ],
   "source": [
    "from collections import OrderedDict\n",
    "\n",
    "n = OrderedDict()\n",
    "n['dos']=2\n",
    "n['uno']=1\n",
    "n['tres']=3\n",
    "\n",
    "print(n)\n",
    "\n",
    "# Diccionario normal\n",
    "n1={}\n",
    "\n",
    "n1['dos']=2\n",
    "n1['uno']=1\n",
    "n1['tres']=3\n",
    "\n",
    "n2={}\n",
    "\n",
    "n2['uno']=1\n",
    "n2['dos']=2\n",
    "n2['tres']=3\n",
    "\n",
    "print(n1==n2)\n",
    "\n",
    "# Respetar orden\n",
    "n3=OrderedDict()\n",
    "\n",
    "n3['dos']=2\n",
    "n3['uno']=1\n",
    "n3['tres']=3\n",
    "\n",
    "n4=OrderedDict()\n",
    "\n",
    "n4['uno']=1\n",
    "n4['dos']=2\n",
    "n4['tres']=3\n",
    "\n",
    "print(n3==n4)"
   ]
  },
  {
   "source": [
    "## namedtuple\n",
    "\n",
    "Libreria muy interesante para crear objetos muy muy rapidos y faciles"
   ],
   "cell_type": "markdown",
   "metadata": {}
  },
  {
   "cell_type": "code",
   "execution_count": 34,
   "metadata": {},
   "outputs": [
    {
     "output_type": "stream",
     "name": "stdout",
     "text": [
      "Guillermo\n"
     ]
    }
   ],
   "source": [
    "from collections import namedtuple\n",
    "\n",
    "Persona = namedtuple('Persona','nombre apellidos edad')\n",
    "per = Persona(nombre='Guillermo',apellidos='Casas', edad='25')\n",
    "print(per.nombre)"
   ]
  },
  {
   "source": [
    "## datetime\n",
    "Modulo para gestionar fechas\n",
    "\n",
    "https://docs.python.org/3/library/datetime.html#strftime-and-strptime-behavior\n",
    "\n"
   ],
   "cell_type": "markdown",
   "metadata": {}
  },
  {
   "cell_type": "code",
   "execution_count": 111,
   "metadata": {},
   "outputs": [
    {
     "output_type": "stream",
     "name": "stdout",
     "text": [
      "AÑO: 3001\nFecha\t\t 3001-12-31 13:30:00\nFecha con ISO\t 3001-12-31T13:30:00\nSemana: jueves\nSemana: ju.\nSemana: 31\nSemana: diciembre\nSemana: dic.\nSemana: 3001\nSemana: 01\nSemana: 01:30\n13:30:0\n3001-12-31 13:30:00\n3002-01-10 22:03:20\n"
     ]
    }
   ],
   "source": [
    "import datetime\n",
    "import locale\n",
    "\n",
    "# LOCATE\n",
    "locale.setlocale(locale.LC_ALL,\"es-ES\")\n",
    "\n",
    "# DATETIME\n",
    "dtNow = datetime.datetime.now() # Para obtener la fecha actual\n",
    "dt = datetime.datetime(2020,12,31,13,30)\n",
    "\n",
    "dt = dt.replace(year=3001) # Para modificar fecha\n",
    "\n",
    "print(\"AÑO:\",dt.year)\n",
    "\n",
    "# Modificar el formato por el iso estandar\n",
    "print(\"Fecha\\t\\t\",dt)\n",
    "print(\"Fecha con ISO\\t\",dt.isoformat())\n",
    "\n",
    "print(\"Semana:\",dt.strftime(\"%A\"))  # Nombre de la semana\n",
    "print(\"Semana:\",dt.strftime(\"%a\"))  # Nombre de la semana (3 digitos)\n",
    "print(\"Semana:\",dt.strftime(\"%d\"))  # Dia\n",
    "print(\"Semana:\",dt.strftime(\"%B\"))  # Nombre del mes\n",
    "print(\"Semana:\",dt.strftime(\"%b\"))  # Nombre del mes (3 digitos)\n",
    "print(\"Semana:\",dt.strftime(\"%Y\"))  # Año\n",
    "print(\"Semana:\",dt.strftime(\"%y\"))  # Año en 2 digitos\n",
    "print(\"Semana:\",dt.strftime(\"%I:%M\"))  # Nombre de la semana\n",
    "\n",
    "print(\"{}:{}:{}\".format(dt.hour,dt.minute,dt.second)) # Ejemplo de formateo de una hora\n",
    "\n",
    "print(dt)\n",
    "t = datetime.timedelta(days=10,hours=8,seconds=2000) # Esto nos permite generar una fecha donde solo indicamos los atributos que queramos\n",
    "dt += t # Se pueden sumar fechas\n",
    "print(dt)\n"
   ]
  },
  {
   "cell_type": "code",
   "execution_count": 121,
   "metadata": {},
   "outputs": [
    {
     "output_type": "stream",
     "name": "stdout",
     "text": [
      "2020-12-10 08:05:00.521553-05:00\n"
     ]
    }
   ],
   "source": [
    "import pytz\n",
    "import datetime\n",
    "import locale\n",
    "\n",
    "dt = datetime.datetime.now(pytz.timezone('America/New_York'))\n",
    "print(dt)\n",
    "\n",
    "#pytz.all_timezones"
   ]
  }
 ]
}