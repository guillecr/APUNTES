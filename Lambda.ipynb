{
 "metadata": {
  "language_info": {
   "codemirror_mode": {
    "name": "ipython",
    "version": 3
   },
   "file_extension": ".py",
   "mimetype": "text/x-python",
   "name": "python",
   "nbconvert_exporter": "python",
   "pygments_lexer": "ipython3",
   "version": "3.8.3-final"
  },
  "orig_nbformat": 2,
  "kernelspec": {
   "name": "python3",
   "display_name": "Python 3",
   "language": "python"
  }
 },
 "nbformat": 4,
 "nbformat_minor": 2,
 "cells": [
  {
   "source": [
    "# Funciones lambda\n",
    "Las funciones lambda se consideran funciones anonimas. Son funciones hechas para estar en una unica linea, para cosas puntuales que no merezca que se defina una función. Se puede hacer funciones lambda que llame a otras funciones."
   ],
   "cell_type": "markdown",
   "metadata": {}
  },
  {
   "cell_type": "code",
   "execution_count": 5,
   "metadata": {},
   "outputs": [
    {
     "output_type": "stream",
     "name": "stdout",
     "text": [
      "20\n20\n"
     ]
    }
   ],
   "source": [
    "def doble(num):return num*2\n",
    "doblar = lambda num:num*2\n",
    "\n",
    "num = 10\n",
    "\n",
    "print(doble(num))\n",
    "print(doblar(num))"
   ]
  },
  {
   "cell_type": "code",
   "execution_count": 4,
   "metadata": {},
   "outputs": [
    {
     "output_type": "stream",
     "name": "stdout",
     "text": [
      "amor\n"
     ]
    }
   ],
   "source": [
    "vuelta = lambda cadena : cadena[::-1]\n",
    "\n",
    "print(vuelta(\"roma\"))"
   ]
  },
  {
   "cell_type": "code",
   "execution_count": 3,
   "metadata": {},
   "outputs": [
    {
     "output_type": "stream",
     "name": "stdout",
     "text": [
      "False\nTrue\n"
     ]
    }
   ],
   "source": [
    "esPar = lambda num : num%2==0\n",
    "esImpar = lambda num : num%2!=0\n",
    "print(esPar(3))\n",
    "print(esImpar(3))"
   ]
  },
  {
   "cell_type": "code",
   "execution_count": 2,
   "metadata": {},
   "outputs": [
    {
     "output_type": "execute_result",
     "data": {
      "text/plain": [
       "True"
      ]
     },
     "metadata": {},
     "execution_count": 2
    }
   ],
   "source": [
    "esCapicua = lambda num : str(num) == str(num)[::-1]\n",
    "esCapicua(191)"
   ]
  },
  {
   "cell_type": "code",
   "execution_count": 1,
   "metadata": {},
   "outputs": [
    {
     "output_type": "stream",
     "name": "stdout",
     "text": [
      "False\n"
     ]
    }
   ],
   "source": [
    "esPar = lambda num : num%2==0\n",
    "esSumaPar = lambda num1,num2 : esPar(num1+num2)\n",
    "print(esSumaPar(2,3))"
   ]
  }
 ]
}