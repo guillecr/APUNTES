{
 "metadata": {
  "language_info": {
   "codemirror_mode": {
    "name": "ipython",
    "version": 3
   },
   "file_extension": ".py",
   "mimetype": "text/x-python",
   "name": "python",
   "nbconvert_exporter": "python",
   "pygments_lexer": "ipython3",
   "version": "3.8.3-final"
  },
  "orig_nbformat": 2,
  "kernelspec": {
   "name": "python3",
   "display_name": "Python 3",
   "language": "python"
  }
 },
 "nbformat": 4,
 "nbformat_minor": 2,
 "cells": [
  {
   "source": [
    "# Regular Expresion\n",
    "Patrones a aplicar en cadenas\n",
    "Importamos la libreria\n",
    "\n",
    "- re.search(): Buscar\n",
    "    + .star(): Marca el inicio de la palabra buscada\n",
    "    + .end(): Marca el fin de la palabra encontrada\n",
    "    + .span(): Te devuelve una tupla con el inicio y el fin de la palabra buscada\n",
    "    + .string(): Te devuelve la cadena encontrada\n",
    "- re.findall(): Igual que .search() pero te devuelve una lista de todas las coincidencias\n",
    "- re.match(): Busca al principio de la cadena y solo al principio.\n",
    "- re.split(): Separa la cadena por el patrón marcado\n",
    "- re.sub(): Sustituye una palabra por otra. El primer parametro es la palabra a buscar, la segunda es la palabra a sustituir y el tercero es la cadena a aplicar\n",
    "    + len(re.sub()): Nos dirá el numero de veces que lo ha encontrado\n",
    "    + (\"str1|str2\"): Nos buscará las 2 palabras\n",
    "    + '+' -> De lo que buscas en adelante\n",
    "    + '*' -> Es con ese caracter o ausencia de ella (esa letra o nada)\n",
    "    + '?' -> Indica que puede estar o no el caracter\n",
    "    + {numero} -> Indica cuantos veces habra ese caracteres\n",
    "    + [] -> Indica que debe de haber uno de los caracteres indicado dentro\n",
    "    "
   ],
   "cell_type": "markdown",
   "metadata": {}
  },
  {
   "cell_type": "code",
   "execution_count": 1,
   "metadata": {},
   "outputs": [
    {
     "output_type": "stream",
     "name": "stdout",
     "text": [
      "\nSearch()\nEstá en (18, 21)\n\nMatch()\nNo está\n\nSprit()\n['Hola', 'Guillermo', 'de', 'DAM,', 'Hola,', 'Holla,', 'Hello,', 'H']\n\nsub()\nHola Sandra de DAM, Hola, Holla, Hello, H\n\nfinall()\n['Hola', 'Hola'] es decir ha encontrado 2 palabras\n\nBusqueda multiple\n['Hola', 'Guillermo', 'Hola'] es decir ha encontrado 3 palabras\n\nBusqueda multiple Plus\nGuillermo -> ['Guillermo']\nHola -> ['Hola', 'Hola']\n\nExpresiones\nGuillermo -> ['Guillermo']\nHo* -> ['Ho', 'Ho', 'Ho', 'H', 'H']\nHo+ -> ['Ho', 'Ho', 'Ho']\nHo?la -> ['Hola', 'Hola']\nHol{2}a -> ['Holla']\nHol{1,2}a -> ['Hola', 'Hola', 'Holla']\nH[oe]l -> ['Hol', 'Hol', 'Hol', 'Hel']\nH[^o] -> ['He']\n"
     ]
    }
   ],
   "source": [
    "import re\n",
    "\n",
    "cadena = \"Hola Guillermo de DAM, Hola, Holla, Hello, H\"\n",
    "print(\"\\nSearch()\")\n",
    "bus = re.search(\"DAM\",cadena)\n",
    "if bus:\n",
    "    print(\"Está en {}\".format(bus.span()))\n",
    "else:\n",
    "    print(\"No está\")\n",
    "\n",
    "print(\"\\nMatch()\")\n",
    "bus = re.match(\"DAM\",cadena)\n",
    "if bus:\n",
    "    print(\"Está en {}\".format(bus.span()))\n",
    "else:\n",
    "    print(\"No está\")\n",
    "\n",
    "print(\"\\nSprit()\")\n",
    "bus = re.split(\" \",cadena)\n",
    "print(bus)\n",
    "\n",
    "print(\"\\nsub()\")\n",
    "bus = re.sub(\"Guillermo\",\"Sandra\",cadena)\n",
    "print(bus)\n",
    "\n",
    "print(\"\\nfinall()\")\n",
    "bus = re.findall(\"Hola\",cadena)\n",
    "print(\"{} es decir ha encontrado {} palabras\".format(bus,len(bus)))\n",
    "print(\"\\nBusqueda multiple\")\n",
    "bus = re.findall(\"Hola|Guillermo\",cadena)\n",
    "print(\"{} es decir ha encontrado {} palabras\".format(bus,len(bus)))\n",
    "\n",
    "print(\"\\nBusqueda multiple Plus\")\n",
    "def buscador(patrones,cadena):\n",
    "    for patron in patrones:\n",
    "        print(\"{} -> {}\".format(patron,re.findall(patron,cadena)))\n",
    "        #print(re.findall(patron,cadena))\n",
    "\n",
    "patrones = [\"Guillermo\",\"Hola\"]\n",
    "buscador(patrones,cadena)\n",
    "\n",
    "print(\"\\nExpresiones\")\n",
    "# + -> Busca el caracter una o mas\n",
    "# * -> Busca ninguna o mas\n",
    "# ? -> Indica que puede estar o no el caracter (una o ninguna)\n",
    "# {numero} -> Indica cuantos veces habra ese caracteres, a este se le puede aplicar un rango {2,6}\n",
    "# [] -> Indica que debe de haber uno de los caracteres indicado dentro\n",
    "# ^ -> Exclisión de la o\n",
    "patrones = [\"Guillermo\", \"Ho*\", \"Ho+\", \"Ho?la\",\"Hol{2}a\",\"Hol{1,2}a\", \"H[oe]l\", \"H[^o]\"]\n",
    "buscador(patrones,cadena)\n"
   ]
  },
  {
   "source": [
    "## REGEX Con escapada de caracteres\n",
    "Nota, para que no haya esta intepretación, antes de la cadena debemos de ponerle la 'r'\n",
    "+ \\\\d : Numérico\n",
    "+ \\\\D : No numérico\n",
    "+ \\\\s : Espacio\n",
    "+ \\\\S : No Espacio\n",
    "+ \\\\w : Alfanumérico\n",
    "+ \\\\W : No Alfanumérico"
   ],
   "cell_type": "markdown",
   "metadata": {}
  },
  {
   "cell_type": "code",
   "execution_count": 2,
   "metadata": {},
   "outputs": [
    {
     "output_type": "stream",
     "name": "stdout",
     "text": [
      "\\d+ -> ['20', '10', '25', '1']\n\\D+ -> ['Guillermo tiene un correo guille@email.com, con ', ' ', ' y ', ', ', ' años']\n\\s -> [' ', ' ', ' ', ' ', ' ', ' ', ' ', ' ', ' ', ' ', ' ']\n\\S+ -> ['Guillermo', 'tiene', 'un', 'correo', 'guille@email.com,', 'con', '20', '10', 'y', '25,', '1', 'años']\n\\w+ -> ['Guillermo', 'tiene', 'un', 'correo', 'guille', 'email', 'com', 'con', '20', '10', 'y', '25', '1', 'años']\n\\W -> [' ', ' ', ' ', ' ', '@', '.', ',', ' ', ' ', ' ', ' ', ' ', ',', ' ', ' ']\n\\w+@\\w+.\\w+ -> ['guille@email.com']\n56\n"
     ]
    }
   ],
   "source": [
    "import re\n",
    "cadena = \"Guillermo tiene un correo guille@email.com, con 20 10 y 25, 1 años\"\n",
    "patrones = [r'\\d+',r'\\D+',r'\\s',r'\\S+',r'\\w+',r'\\W',r'\\w+@\\w+.\\w+']\n",
    "\n",
    "def buscador(patrones,cadena):\n",
    "    for patron in patrones:\n",
    "        print(\"{} -> {}\".format(patron,re.findall(patron,cadena)))\n",
    "\n",
    "buscador(patrones,cadena)\n",
    "\n",
    "patronNum = r'\\d+'\n",
    "\n",
    "print(eval('+'.join(re.findall(patronNum,cadena))))\n"
   ]
  }
 ]
}