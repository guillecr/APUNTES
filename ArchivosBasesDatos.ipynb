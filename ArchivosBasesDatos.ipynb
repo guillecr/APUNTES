{
 "metadata": {
  "language_info": {
   "codemirror_mode": {
    "name": "ipython",
    "version": 3
   },
   "file_extension": ".py",
   "mimetype": "text/x-python",
   "name": "python",
   "nbconvert_exporter": "python",
   "pygments_lexer": "ipython3",
   "version": "3.8.3-final"
  },
  "orig_nbformat": 2,
  "kernelspec": {
   "name": "python3",
   "display_name": "Python 3"
  }
 },
 "nbformat": 4,
 "nbformat_minor": 2,
 "cells": [
  {
   "source": [
    "# Fichero y Base de datos\n",
    "## Ficheros\n",
    "Todos los sistemas de gestion de archivos es necesario cerrar la conexión para poder hacer efectivo los cambios a ese fichero.\n",
    "EOF: Es final del fichero.\n",
    "Es muy normal que se use archivos intermedios en cualquier aplicación. Pior ejemplo, en acceso a una base de datos, esta información no se usa directamente de la base de datos, sino que primero se guarda en un archivo y la aplicación usa ese archivo. De esta manera se reduce el umero de conexiones a la base de datos haciendo el priograma mas rapido y la información esta mas segura."
   ],
   "cell_type": "markdown",
   "metadata": {}
  },
  {
   "source": [
    "### Escritura\n",
    "Ejemplo simpre de una escritura en archivos de texto"
   ],
   "cell_type": "markdown",
   "metadata": {}
  },
  {
   "cell_type": "code",
   "execution_count": 6,
   "metadata": {},
   "outputs": [],
   "source": [
    "texto =\"Hola Guillermo\\nQue tal?\"\n",
    "urlFichero=\"prueba.txt\"\n",
    "FICHERO = open(urlFichero,\"w\")\n",
    "FICHERO.write(texto)\n",
    "FICHERO.close()"
   ]
  },
  {
   "source": [
    "Si volvemos a abrir el archivo y escribir, este se sobreescribirá"
   ],
   "cell_type": "markdown",
   "metadata": {}
  },
  {
   "cell_type": "code",
   "execution_count": null,
   "metadata": {},
   "outputs": [],
   "source": [
    "FICHERO = open(urlFichero,\"w\")\n",
    "FICHERO.write(\"Segunda linea\")\n",
    "FICHERO.close()"
   ]
  },
  {
   "source": [
    "### Escribir sobre un terxto existente\n",
    "Para escribir sobre un archivo de texto sin romper lo que contenia, en el constructor debemo de indicarle que lo abrimos como 'a' que indica que sera una actualización sobre su contenido."
   ],
   "cell_type": "markdown",
   "metadata": {}
  },
  {
   "cell_type": "code",
   "execution_count": 12,
   "metadata": {},
   "outputs": [],
   "source": [
    "FICHERO = open(urlFichero,'a')\n",
    "FICHERO.write(\"\\nEsta linea es nueva\")\n",
    "FICHERO.close()"
   ]
  },
  {
   "source": [
    "### Lectura completa\n",
    "Para leer un archivo, indicamos que será solo de lectura"
   ],
   "cell_type": "markdown",
   "metadata": {}
  },
  {
   "cell_type": "code",
   "execution_count": 8,
   "metadata": {},
   "outputs": [
    {
     "output_type": "stream",
     "name": "stdout",
     "text": [
      "Contenido del fichero:\n Hola Guillermo\nQue tal?\n"
     ]
    }
   ],
   "source": [
    "FICHERO = open(urlFichero,\"r\")\n",
    "texFichero = FICHERO.read()\n",
    "FICHERO.close()\n",
    "print(\"Contenido del fichero:\\n\",texFichero)\n"
   ]
  },
  {
   "source": [
    "### Lectura por lineas\n",
    "En la lectura de lineas usaremos el metodo readlines(). Esto nos devolverá una lista con cada linea que tuviera el archivo"
   ],
   "cell_type": "markdown",
   "metadata": {}
  },
  {
   "cell_type": "code",
   "execution_count": 9,
   "metadata": {},
   "outputs": [
    {
     "output_type": "stream",
     "name": "stdout",
     "text": [
      "['Hola Guillermo\\n', 'Que tal?']\n"
     ]
    }
   ],
   "source": [
    "FICHERO = open(urlFichero,'r')\n",
    "texFichero = FICHERO.readlines()\n",
    "FICHERO.close()\n",
    "print(texFichero)"
   ]
  },
  {
   "source": [
    "Para leer linea a linea de manera secuencial se usa el readline(). Para ir pasando de linea a linea hay que repetir la ejecución SIN cerrar la conexión."
   ],
   "cell_type": "markdown",
   "metadata": {}
  },
  {
   "cell_type": "code",
   "execution_count": 15,
   "metadata": {},
   "outputs": [
    {
     "output_type": "stream",
     "name": "stdout",
     "text": [
      "1: Hola Guillermo\n // 2: Que tal?\n\n"
     ]
    }
   ],
   "source": [
    "FICHERO = open(urlFichero,'r')\n",
    "tex1 = FICHERO.readline()\n",
    "tex2 = FICHERO.readline()\n",
    "FICHERO.close()\n",
    "print(\"1: {} // 2: {}\".format(tex1,tex2))"
   ]
  },
  {
   "source": [
    "### Apertura del archivo\n",
    "Con el WITH podemos dejar el archivo accesible a poder aplicarle bucles."
   ],
   "cell_type": "markdown",
   "metadata": {}
  },
  {
   "cell_type": "code",
   "execution_count": 16,
   "metadata": {},
   "outputs": [
    {
     "output_type": "stream",
     "name": "stdout",
     "text": [
      "Hola Guillermo\n\nQue tal?\n\nEsta linea es nueva\n\nEsta linea es nueva\n\nEsta linea es nueva\n"
     ]
    }
   ],
   "source": [
    "with open(urlFichero,'r') as texFichero:\n",
    "    for linea in texFichero:\n",
    "        print(linea)"
   ]
  },
  {
   "source": [
    "## Manejo de punteros\n",
    "Es para posicionamiento dentro de un archivo. En este ejemplo, nosotros indicamos que nos posicionemos en la posicion 5 y de ahi leemos los 15 siguientes caracteres del archivo."
   ],
   "cell_type": "markdown",
   "metadata": {}
  },
  {
   "cell_type": "code",
   "execution_count": 17,
   "metadata": {},
   "outputs": [
    {
     "output_type": "execute_result",
     "data": {
      "text/plain": [
       "'Guillermo\\nQue t'"
      ]
     },
     "metadata": {},
     "execution_count": 17
    }
   ],
   "source": [
    "fichero = open(urlFichero,'r')\n",
    "fichero.seek(5)\n",
    "fichero.read(15)\n",
    "fichero.close()"
   ]
  },
  {
   "cell_type": "code",
   "execution_count": null,
   "metadata": {},
   "outputs": [],
   "source": [
    "Un ejemplo de uso es por ejemplo leer a partir de la primera linea. En ese caso, nosotros marcaremo el puntero despues de la primera linea leyendo la longitud de la primera linea"
   ]
  },
  {
   "cell_type": "code",
   "execution_count": 19,
   "metadata": {},
   "outputs": [
    {
     "output_type": "execute_result",
     "data": {
      "text/plain": [
       "'\\nQue tal?\\nEsta linea es nueva\\nEsta linea es nueva\\nEsta linea es nueva'"
      ]
     },
     "metadata": {},
     "execution_count": 19
    }
   ],
   "source": [
    "fichero = open(urlFichero,'r')\n",
    "fichero.seek(len(fichero.readline()))\n",
    "fichero.read()\n"
   ]
  },
  {
   "source": [
    "## Lectura y escritura simultanea\n",
    "Para ello, en el constructor, el metodo será r+, que quiere decir leer y añadir. "
   ],
   "cell_type": "markdown",
   "metadata": {}
  },
  {
   "cell_type": "code",
   "execution_count": 29,
   "metadata": {},
   "outputs": [],
   "source": [
    "urlFichero2 = \"Prueba2.txt\"\n",
    "fichero = open(urlFichero2,'w')\n",
    "text = \"Linea 1\\nLinea 2\\nLinea 3\\nLinea 4\"\n",
    "fichero.write(text)\n",
    "fichero.close()"
   ]
  },
  {
   "cell_type": "code",
   "execution_count": 30,
   "metadata": {},
   "outputs": [
    {
     "output_type": "stream",
     "name": "stdout",
     "text": [
      "Linea 1\nLinea 2\nLinea 3\nLinea 4\nLinea 5\n"
     ]
    }
   ],
   "source": [
    "fichero = open(urlFichero2,'r+')\n",
    "fichero.read() # Con esta linea conseguimos poner el puntero al final del archivo para escribir al final\n",
    "fichero.write(\"\\nLinea 5\")\n",
    "fichero.seek(0)\n",
    "t=fichero.read()\n",
    "fichero.close()\n",
    "print(t)"
   ]
  },
  {
   "source": [
    "### Modificar una linea\n",
    "Obtenemos todo el contenido, modificamos la linea que queremos (recordamos que lo recogemos como una lista), volvemos a poner el puntero al principio y reescribimos todo de nuevo. Para escribir una lista, la función es writelines(<lista>)"
   ],
   "cell_type": "markdown",
   "metadata": {}
  },
  {
   "cell_type": "code",
   "execution_count": 33,
   "metadata": {},
   "outputs": [
    {
     "output_type": "error",
     "ename": "TypeError",
     "evalue": "seek expected at least 1 argument, got 0",
     "traceback": [
      "\u001b[1;31m---------------------------------------------------------------------------\u001b[0m",
      "\u001b[1;31mTypeError\u001b[0m                                 Traceback (most recent call last)",
      "\u001b[1;32m<ipython-input-33-811b797ea05f>\u001b[0m in \u001b[0;36m<module>\u001b[1;34m\u001b[0m\n\u001b[0;32m      4\u001b[0m \u001b[0mfichero\u001b[0m\u001b[1;33m.\u001b[0m\u001b[0mseek\u001b[0m\u001b[1;33m(\u001b[0m\u001b[1;36m0\u001b[0m\u001b[1;33m)\u001b[0m\u001b[1;33m\u001b[0m\u001b[1;33m\u001b[0m\u001b[0m\n\u001b[0;32m      5\u001b[0m \u001b[0mfichero\u001b[0m\u001b[1;33m.\u001b[0m\u001b[0mwritelines\u001b[0m\u001b[1;33m(\u001b[0m\u001b[0mtexto\u001b[0m\u001b[1;33m)\u001b[0m\u001b[1;33m\u001b[0m\u001b[1;33m\u001b[0m\u001b[0m\n\u001b[1;32m----> 6\u001b[1;33m \u001b[0mfichero\u001b[0m\u001b[1;33m.\u001b[0m\u001b[0mseek\u001b[0m\u001b[1;33m(\u001b[0m\u001b[1;33m)\u001b[0m\u001b[1;33m\u001b[0m\u001b[1;33m\u001b[0m\u001b[0m\n\u001b[0m\u001b[0;32m      7\u001b[0m \u001b[0mfichero\u001b[0m\u001b[1;33m.\u001b[0m\u001b[0mclose\u001b[0m\u001b[1;33m(\u001b[0m\u001b[1;33m)\u001b[0m\u001b[1;33m\u001b[0m\u001b[1;33m\u001b[0m\u001b[0m\n",
      "\u001b[1;31mTypeError\u001b[0m: seek expected at least 1 argument, got 0"
     ]
    }
   ],
   "source": [
    "fichero = open(urlFichero2,'r+')\n",
    "texto = fichero.readlines()\n",
    "texto[1] = \"Linea diferente\\n\"\n",
    "fichero.seek(0)\n",
    "fichero.writelines(texto)\n",
    "fichero.close()\n"
   ]
  },
  {
   "source": [
    "# Ejercicio\n",
    "Un programa que pida el nombre, la direccion, la edad, la categoria, y el salario\n",
    "\n",
    "La opción 2 sera la de leer. Si no le indicamos nada imprime todo y sino imprima la linea indicada\n",
    "Tiene que tener esa cabecera."
   ],
   "cell_type": "markdown",
   "metadata": {}
  },
  {
   "cell_type": "code",
   "execution_count": 5,
   "metadata": {},
   "outputs": [
    {
     "output_type": "stream",
     "name": "stdout",
     "text": [
      "Gestor de usuarios\n",
      "1) Añadir\n",
      "2) Ver\n",
      "Noelia\tMadrid\t19\tPeon\t500\n",
      "\n",
      "---------------------------------------------------------------------\n",
      "1) Añadir\n",
      "2) Ver\n",
      "NOMBRE\tDIRECCIÓN\tEDAD\tEDAD\tCATEGORIA\tSALARIO\n",
      "\n",
      "Noelia\tMadrid\t19\tPeon\t500\n",
      "\n",
      "---------------------------------------------------------------------\n",
      "1) Añadir\n",
      "2) Ver\n",
      "Añadir nuevo usuario:\n",
      "---------------------------------------------------------------------\n",
      "1) Añadir\n",
      "2) Ver\n",
      "Guillermo\tLeganes\t26\tJefe\t8000\n",
      "\n",
      "---------------------------------------------------------------------\n",
      "1) Añadir\n",
      "2) Ver\n",
      "Noelia\tMadrid\t19\tPeon\t500\n",
      "\n",
      "---------------------------------------------------------------------\n",
      "1) Añadir\n",
      "2) Ver\n",
      "NOMBRE\tDIRECCIÓN\tEDAD\tEDAD\tCATEGORIA\tSALARIO\n",
      "\n",
      "Noelia\tMadrid\t19\tPeon\t500\n",
      "\n",
      "Guillermo\tLeganes\t26\tJefe\t8000\n",
      "\n",
      "---------------------------------------------------------------------\n",
      "1) Añadir\n",
      "2) Ver\n",
      "bye\n"
     ]
    }
   ],
   "source": [
    "menu=\"1) Añadir\\n2) Ver\"\n",
    "fila=\"---------------------------------------------------------------------\"\n",
    "url=\"usuarios.txt\"\n",
    "cabecera = \"NOMBRE\\tDIRECCIÓN\\tEDAD\\tEDAD\\tCATEGORIA\\tSALARIO\\n\"\n",
    "\n",
    "def leer(url):\n",
    "    fichero = open(url,'r')\n",
    "    salida = fichero.readlines()\n",
    "    fichero.close()\n",
    "    return salida\n",
    "\n",
    "def imprimirAll(lista):\n",
    "    for fila in lista:\n",
    "        print(fila)\n",
    "\n",
    "def escribir(fila,url):\n",
    "    fichero = open(url,'a')\n",
    "    fichero.write(fila)\n",
    "    fichero.close()\n",
    "\n",
    "def nuevoUsuarios():\n",
    "    print('Añadir nuevo usuario:')\n",
    "    n = str(input(\"Nombre: \"))\n",
    "    d = str(input(\"Dirección: \"))\n",
    "    e = str(input(\"Edad: \"))\n",
    "    c = str(input(\"Categoría: \"))\n",
    "    s = str(input(\"Salario: \"))\n",
    "    fila = \"{}\\t{}\\t{}\\t{}\\t{}\\n\".format(n,d,e,c,s)\n",
    "    escribir(fila,url)\n",
    "\n",
    "def principal():\n",
    "    bandera = True\n",
    "    print(menu)\n",
    "    opcion = int(input(\"Opción: \"))\n",
    "    if opcion == 1:\n",
    "        nuevoUsuarios()\n",
    "    elif opcion == 2:\n",
    "        nFila = input(\"Fila?: \")\n",
    "        if len(nFila) == 0:\n",
    "            imprimirAll(leer(url))\n",
    "        else:\n",
    "            nFila = int(nFila)\n",
    "            print(leer(url)[nFila])\n",
    "\n",
    "    else:\n",
    "        bandera = False\n",
    "    return bandera\n",
    "\n",
    "def inicio():\n",
    "    escribir(\"\",url)\n",
    "    fichero = open(url)\n",
    "    if fichero.read() == \"\":\n",
    "        escribir(cabecera,url)\n",
    "    print(\"Gestor de usuarios\")\n",
    "    while principal():\n",
    "        print(fila)\n",
    "    print('bye')\n",
    "\n",
    "inicio()\n"
   ]
  }
 ]
}