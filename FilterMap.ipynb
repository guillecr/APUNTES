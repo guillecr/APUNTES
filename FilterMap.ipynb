{
 "metadata": {
  "language_info": {
   "codemirror_mode": {
    "name": "ipython",
    "version": 3
   },
   "file_extension": ".py",
   "mimetype": "text/x-python",
   "name": "python",
   "nbconvert_exporter": "python",
   "pygments_lexer": "ipython3",
   "version": "3.8.3-final"
  },
  "orig_nbformat": 2,
  "kernelspec": {
   "name": "python3",
   "display_name": "Python 3"
  }
 },
 "nbformat": 4,
 "nbformat_minor": 2,
 "cells": [
  {
   "source": [
    "# Filter\n",
    "El primer parametro del fitro es la fucnión, el segundo la lista"
   ],
   "cell_type": "markdown",
   "metadata": {}
  },
  {
   "cell_type": "code",
   "execution_count": 7,
   "metadata": {},
   "outputs": [
    {
     "output_type": "stream",
     "name": "stdout",
     "text": [
      "[129]\n"
     ]
    }
   ],
   "source": [
    "numero = [4,5,8,32,54,23,45,97,54,20,129]\n",
    "\n",
    "numPares = list(filter(lambda num:num>100,numero))\n",
    "\n",
    "print(numPares)"
   ]
  },
  {
   "cell_type": "code",
   "execution_count": 14,
   "metadata": {},
   "outputs": [
    {
     "output_type": "stream",
     "name": "stdout",
     "text": [
      "Nombre: Guillermo, Edad:26\nNombre: Sandra, Edad:25\n"
     ]
    }
   ],
   "source": [
    "class persona:\n",
    "    def __init__(self,nombre,edad):\n",
    "        self.nombre=nombre\n",
    "        self.edad=edad\n",
    "    def __str__(self):\n",
    "        return \"Nombre: {}, Edad:{}\".format(self.nombre,self.edad)\n",
    "personas = [\n",
    "    persona(\"Guillermo\",26),\n",
    "    persona(\"Sandra\",25),\n",
    "    persona(\"Levis\",2),\n",
    "    persona(\"Nala\",8)\n",
    "    ]\n",
    "\n",
    "personasAdultas = filter(lambda p: p.edad>=18, personas)\n",
    "for per in personasAdultas:\n",
    "    print(str(per))\n",
    "\n"
   ]
  },
  {
   "source": [
    "# Mapear\n",
    "Map()"
   ],
   "cell_type": "markdown",
   "metadata": {}
  },
  {
   "cell_type": "code",
   "execution_count": 15,
   "metadata": {},
   "outputs": [
    {
     "output_type": "stream",
     "name": "stdout",
     "text": [
      "[8, 10, 16, 64, 108, 46, 90, 194, 108, 40, 258]\n"
     ]
    }
   ],
   "source": [
    "numero = [4,5,8,32,54,23,45,97,54,20,129]\n",
    "\n",
    "lista = list(map(lambda n: n*2,numero))\n",
    "print(lista)\n"
   ]
  },
  {
   "cell_type": "code",
   "execution_count": 18,
   "metadata": {},
   "outputs": [
    {
     "output_type": "stream",
     "name": "stdout",
     "text": [
      "[3, 7, 11, 15, 19]\n"
     ]
    }
   ],
   "source": [
    "numList1 = [2,4,6,8,10]\n",
    "numList2 = [1,3,5,7,9]\n",
    "\n",
    "result = list(map(lambda x,y: x+y,numList1,numList2))\n",
    "print(result)"
   ]
  },
  {
   "cell_type": "code",
   "execution_count": 24,
   "metadata": {},
   "outputs": [
    {
     "output_type": "stream",
     "name": "stdout",
     "text": [
      "Nombre: Guillermo, Edad:31\nNombre: Sandra, Edad:30\nNombre: Levis, Edad:7\nNombre: Nala, Edad:13\n"
     ]
    }
   ],
   "source": [
    "class persona:\n",
    "    def __init__(self,nombre,edad):\n",
    "        self.nombre=nombre\n",
    "        self.edad=edad\n",
    "    def __str__(self):\n",
    "        return \"Nombre: {}, Edad:{}\".format(self.nombre,self.edad)\n",
    "personas = [\n",
    "    persona(\"Guillermo\",26),\n",
    "    persona(\"Sandra\",25),\n",
    "    persona(\"Levis\",2),\n",
    "    persona(\"Nala\",8)\n",
    "    ]\n",
    "def sumEdad(p):\n",
    "    p.edad+=5\n",
    "    return p\n",
    "\n",
    "personasM = map(sumEdad,personas)\n",
    "\n",
    "for per in personasM:\n",
    "    print(str(per))"
   ]
  }
 ]
}