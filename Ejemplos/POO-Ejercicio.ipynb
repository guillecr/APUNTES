{
 "metadata": {
  "language_info": {
   "codemirror_mode": {
    "name": "ipython",
    "version": 3
   },
   "file_extension": ".py",
   "mimetype": "text/x-python",
   "name": "python",
   "nbconvert_exporter": "python",
   "pygments_lexer": "ipython3",
   "version": "3.8.3-final"
  },
  "orig_nbformat": 2,
  "kernelspec": {
   "name": "python3",
   "display_name": "Python 3"
  }
 },
 "nbformat": 4,
 "nbformat_minor": 2,
 "cells": [
  {
   "source": [
    "#  Ejercicio\n",
    "Objeto Empleado - Nombre - Salario - Paga (son pagas extras)\n",
    "\n",
    "Objeto Nominas: - Lista de empleados - Metodo calculo() que devuelva => <nombre_empleado> <SalarioMes12> <prorrata de pagas (salariomes*pagas/12)>\n",
    "\n",
    "Extra: Guardarlo en un archivo y luego leerlo"
   ],
   "cell_type": "markdown",
   "metadata": {}
  },
  {
   "cell_type": "code",
   "execution_count": 23,
   "metadata": {},
   "outputs": [
    {
     "output_type": "stream",
     "name": "stdout",
     "text": [
      "NOMBRE;SALARIO-ANUAL;PRORRATA\n\nGuillermo;24000;333.3333333333333\n\nSalndra;48000;1000.0\n\nLevis;12000;83.33333333333333\n\n"
     ]
    }
   ],
   "source": [
    "class Empleado:\n",
    "    def __init__(self,nombre,salario,pagas):\n",
    "        self.nombre = nombre\n",
    "        self.salario = salario\n",
    "        self.pagas = pagas\n",
    "\n",
    "class Nomina:\n",
    "    empleados = []\n",
    "    cabecera = \"NOMBRE;SALARIO-ANUAL;PRORRATA\\n\"\n",
    "    def __init__(self,empleados=[],url=\"Nominas.txt\"):\n",
    "        self.empleados = empleados\n",
    "        self.url = url\n",
    "\n",
    "    def newEmpleado(self,empleado):\n",
    "        self.empleados.append(empleado)\n",
    "\n",
    "    def prorrata(self,salario,pagas):\n",
    "        return salario*pagas/12\n",
    "\n",
    "    def calculo(self):\n",
    "        fichero = open(self.url,'w')\n",
    "        print(self.cabecera)\n",
    "        fichero.write(self.cabecera)\n",
    "        for empleado in self.empleados:\n",
    "            linea = \"{};{};{}\\n\".format(empleado.nombre,empleado.salario*12,self.prorrata(empleado.salario,empleado.pagas))\n",
    "            print(linea)\n",
    "            fichero.write(linea)\n",
    "        fichero.close()\n",
    "\n",
    "e1 = Empleado(\"Guillermo\",2000,2)\n",
    "e2 = Empleado(\"Salndra\",4000,3)\n",
    "e3 = Empleado(\"Levis\",1000,1)\n",
    "empresa = Nomina([e1,e2,e3])\n",
    "empresa.calculo()\n"
   ]
  }
 ]
}