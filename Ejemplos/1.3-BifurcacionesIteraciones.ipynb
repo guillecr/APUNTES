{
 "cells": [
  {
   "cell_type": "markdown",
   "metadata": {},
   "source": [
    "# Estructuras de control"
   ]
  },
  {
   "cell_type": "markdown",
   "metadata": {},
   "source": [
    "**1) Realiza un programa que lea dos números por teclado y permita elegir entre 3 opciones en un menú:** \n",
    "* Mostrar una suma de los dos números\n",
    "* Mostrar una resta de los dos números (el primero menos el segundo)\n",
    "* Mostrar una multiplicación de los dos números\n",
    "* En caso de no introducir una opción válida, el programa informará de que no es correcta."
   ]
  },
  {
   "cell_type": "code",
   "execution_count": 4,
   "metadata": {},
   "outputs": [
    {
     "output_type": "stream",
     "name": "stdout",
     "text": [
      "1) Mostrar una suma de los dos números\n",
      "2) Mostrar una resta de los dos números (el primero menos el segundo)\n",
      "3) Mostrar una multiplicación de los dos números\n",
      "Opcion no valida\n"
     ]
    }
   ],
   "source": [
    "# Completa el ejercicio aquí\n",
    "n1 = int(input(\"Numero 1: \"))\n",
    "n2 = int(input(\"Numero 2: \"))\n",
    "print(\"1) Mostrar una suma de los dos números\\n2) Mostrar una resta de los dos números (el primero menos el segundo)\\n3) Mostrar una multiplicación de los dos números\")\n",
    "menu = int(input([\"1-3\"]))\n",
    "if menu == 1:\n",
    "    print(n1,\"+\",n2,\"=\",n1+n2)\n",
    "elif menu == 2:\n",
    "    print(n1,\"-\",n2,\"=\",n1-n2)\n",
    "elif menu == 3:\n",
    "    print(n1,\"*\",n2,\"=\",n1*n2)\n",
    "else:\n",
    "    print(\"Opcion no valida\")\n"
   ]
  },
  {
   "cell_type": "markdown",
   "metadata": {},
   "source": [
    "**2) Realiza un programa que lea un número impar por teclado. Si el usuario no introduce un número impar, debe repetise el proceso hasta que lo introduzca correctamente.**"
   ]
  },
  {
   "cell_type": "code",
   "execution_count": 8,
   "metadata": {},
   "outputs": [
    {
     "output_type": "stream",
     "name": "stdout",
     "text": [
      "El numero no es impar\n",
      "El numero no es impar\n",
      "El numero no es impar\n"
     ]
    }
   ],
   "source": [
    "# Completa el ejercicio aquí\n",
    "test = True\n",
    "while test:\n",
    "    num = int(input(\"Introduzca numero impar\"))\n",
    "    if (num%2) != 0:\n",
    "        test = False\n",
    "        print(\"Numero impar, gracias\")\n",
    "    else:\n",
    "        print(\"El numero no es impar, repita\")"
   ]
  },
  {
   "cell_type": "markdown",
   "metadata": {},
   "source": [
    "**3) Realiza un programa que sume todos los números enteros pares desde el 0 hasta el 100:**\n",
    "\n",
    "*Sugerencia: Puedes utilizar la funciones sum() y range() para hacerlo más fácil. El tercer parámetro en la función range(inicio, fin, salto) indica un salto de números, pruébalo.*"
   ]
  },
  {
   "cell_type": "code",
   "execution_count": 10,
   "metadata": {},
   "outputs": [
    {
     "output_type": "stream",
     "name": "stdout",
     "text": [
      "2550\n"
     ]
    }
   ],
   "source": [
    "# Completa el ejercicio aquí\n",
    "numP = list(range(0,101,2))\n",
    "print (sum(numP))"
   ]
  },
  {
   "cell_type": "markdown",
   "metadata": {},
   "source": [
    "**4) Realiza un programa que pida al usuario cuantos números quiere introducir. Luego lee todos los números y realiza una media aritmética:**\n"
   ]
  },
  {
   "cell_type": "code",
   "execution_count": 17,
   "metadata": {},
   "outputs": [
    {
     "output_type": "stream",
     "name": "stdout",
     "text": [
      "9.5\n"
     ]
    }
   ],
   "source": [
    "# Completa el ejercicio aquí\n",
    "vueltas = int(input(\"Numero de numeros a introducir\"))\n",
    "numeros = []\n",
    "for i in range(vueltas):\n",
    "    numeros.append(int(input(\"Numero \" + str(i+1))))\n",
    "print(sum(numeros)/vueltas)"
   ]
  },
  {
   "cell_type": "markdown",
   "metadata": {},
   "source": [
    "**5) Realiza un programa que pida al usuario un número entero del 0 al 9, y que mientras el número no sea correcto se repita el proceso. Luego debe comprobar si el número se encuentra en la lista de números y notificarlo:**\n",
    "\n",
    "*Consejo: La sintaxis \"valor in lista\" permite comprobar fácilmente si un valor se encuentra en una lista (devuelve True o False)*"
   ]
  },
  {
   "cell_type": "code",
   "execution_count": 19,
   "metadata": {},
   "outputs": [
    {
     "output_type": "stream",
     "name": "stdout",
     "text": [
      "Numero correcto\nEl numero esta en la lista\n"
     ]
    }
   ],
   "source": [
    "# Completa el ejercicio aquí\n",
    "numeros = [1, 3, 6, 9]\n",
    "test = True\n",
    "num=0\n",
    "while test:\n",
    "    num = int(input(\"Numero [0-9]\"))\n",
    "    if num>=0 and num<10:\n",
    "        test = False\n",
    "        print(\"Numero correcto\")\n",
    "    else:\n",
    "        print(\"Numero NO correcto\")\n",
    "if num in numeros:\n",
    "    print(\"El numero esta en la lista\")\n",
    "else:\n",
    "    print(\"El numero no se encuentra en la lista\")\n"
   ]
  },
  {
   "cell_type": "markdown",
   "metadata": {},
   "source": [
    "**6) Utilizando la función range() y la conversión a listas genera las siguientes listas dinámicamente:**\n",
    "* Todos los números del 0 al 10 [0, 1, 2, ..., 10]\n",
    "* Todos los números del -10 al 0 [-10, -9, -8, ..., 0]\n",
    "* Todos los números pares del 0 al 20 [0, 2, 4, ..., 20]\n",
    "* Todos los números impares entre -20 y 0 [-19, -17, -15, ..., -1]\n",
    "* Todos los números múltiples de 5 del 0 al 50 [0, 5, 10, ..., 50]\n",
    "\n",
    "*Pista: Utiliza el tercer parámetro de la función range(inicio, fin, salto).*"
   ]
  },
  {
   "cell_type": "code",
   "execution_count": 23,
   "metadata": {},
   "outputs": [
    {
     "output_type": "stream",
     "name": "stdout",
     "text": [
      "[0, 1, 2, 3, 4, 5, 6, 7, 8, 9, 10]\n[-10, -9, -8, -7, -6, -5, -4, -3, -2, -1, 0]\n[0, 2, 4, 6, 8, 10, 12, 14, 16, 18, 20]\n[-19, -17, -15, -13, -11, -9, -7, -5, -3, -1]\n[0, 5, 10, 15, 20, 25, 30, 35, 40, 45, 50]\n"
     ]
    }
   ],
   "source": [
    "# Completa el ejercicio\n",
    "lis1 = list(range(11))\n",
    "lis2 = list(range(-10,1))\n",
    "lis3 = list(range(0,21,2))\n",
    "lis4 = list(range(-19,0,2))\n",
    "lis5 = list(range(0,51,5))\n",
    "print(lis1)\n",
    "print(lis2)\n",
    "print(lis3)\n",
    "print(lis4)\n",
    "print(lis5)"
   ]
  },
  {
   "cell_type": "markdown",
   "metadata": {},
   "source": [
    "**7) Dadas dos listas, debes generar una tercera con todos los elementos que se repitan en ellas, pero no debe repetise ningún elemento en la nueva lista:**"
   ]
  },
  {
   "cell_type": "code",
   "execution_count": 26,
   "metadata": {},
   "outputs": [
    {
     "output_type": "stream",
     "name": "stdout",
     "text": [
      "{8, 1, 10}\n"
     ]
    }
   ],
   "source": [
    "# Completa el ejercicio aquí\n",
    "lista1 = [1,2,4,5,7,8,10]\n",
    "lista2 = [1,3,6,8,9,10,1]\n",
    "lista3 = set()\n",
    "for i in lista1:\n",
    "    if i in lista2:\n",
    "        lista3.add(i)\n",
    "print(lista3)"
   ]
  }
 ],
 "metadata": {
  "anaconda-cloud": {},
  "kernelspec": {
   "display_name": "Python 3",
   "language": "python",
   "name": "python3"
  },
  "language_info": {
   "codemirror_mode": {
    "name": "ipython",
    "version": 3
   },
   "file_extension": ".py",
   "mimetype": "text/x-python",
   "name": "python",
   "nbconvert_exporter": "python",
   "pygments_lexer": "ipython3",
   "version": "3.8.3-final"
  }
 },
 "nbformat": 4,
 "nbformat_minor": 1
}