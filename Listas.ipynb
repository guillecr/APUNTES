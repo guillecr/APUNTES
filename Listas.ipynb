{
 "metadata": {
  "language_info": {
   "codemirror_mode": {
    "name": "ipython",
    "version": 3
   },
   "file_extension": ".py",
   "mimetype": "text/x-python",
   "name": "python",
   "nbconvert_exporter": "python",
   "pygments_lexer": "ipython3",
   "version": "3.8.3-final"
  },
  "orig_nbformat": 2,
  "kernelspec": {
   "name": "python3",
   "display_name": "Python 3",
   "language": "python"
  }
 },
 "nbformat": 4,
 "nbformat_minor": 2,
 "cells": [
  {
   "source": [
    "# Lista (list)\n",
    "Las listas con colecciones que permite la modificacion de ellos, como añadir o eliminar.\n",
    "La manera de instanciarlos es por medio de los [] o con list()\n",
    "- list.append(<elemento>): Nos permite añadir un nuevo elemento al final de la listas\n",
    "- list.insert(<index>,<valor>): Nos introduce un valor en la posición indicada. No elimina, sino que desplaza\n",
    "- list.remove(<elemento>): Nos permite eliminar un objeto indicando su valor\n",
    "- del list\\[index\\]: Nos permite eliminar por indice\n",
    "- list.extend(\\[<elem\\>,<elem\\>\\]): Nos permite añadir varios elementos a la vez\n",
    "- list.reverse(): Con esta función invertimos la lista\n",
    "- list.sort(): Nos ordena la lista\n",
    "- list.pop(): Elimina el ultimo elemento y nos lo devuelve\n",
    "- list.index(<valor>): Nos devuelve el indice de un valor en la lista\n",
    "\n",
    "## Slicing\n",
    "Funcionalidad que nos permite recoger un congunto de elementos de una lista. \n",
    "Su funcionamiento es con los : dentro de los corchetes, de tal manera que en vez de indicar indice del elemento que quremos recoger indicamos el rango de indices de elementos que queremos recoger:\n",
    "- \\[1:5] -> Obtenemos los elementos del indice 1 hasta el 4\n",
    "- \\[3:] -> Obtenemos los elementos del indice 3 hasta el final de la lista\n",
    "- \\[:5] -> Obtenemos los elementos desde el inicio hasta el indice 4\n",
    "- \\[::-1] -> El tercer valor inica el orden de obtención (1=Orden normal, -1=Orden iverso)\n",
    "\n",
    "OJO, esto nos devuelve una lista"
   ],
   "cell_type": "markdown",
   "metadata": {}
  },
  {
   "cell_type": "code",
   "execution_count": 41,
   "metadata": {},
   "outputs": [
    {
     "output_type": "stream",
     "name": "stdout",
     "text": [
      "['Guillermo', 'Sandra', 'Levis', 'Nala', 'Nala']\n\nOrdernar\n['Guillermo', 'Levis', 'Nala', 'Nala', 'Sandra']\n\nPop\n['Guillermo', 'Levis', 'Nala', 'Nala']\nSandra\n\nDel\n['Guillermo', 'Nala', 'Nala']\n\nRemove\n['Guillermo', 'Nala']\n\nSlicing\n['Nala', 'Guillermo']\n['Nala']\n['Guillermo', 'Nala', 'Sandy']\n\nReverse\n['Sandy', 'Nala', 'Guillermo']\n"
     ]
    }
   ],
   "source": [
    "nombre=[\"Guillermo\",\"Sandra\",\"Levis\",\"Nala\",\"Nala\"]\n",
    "print(nombre)\n",
    "\n",
    "print(\"\\nOrdernar\")\n",
    "nombre.sort()\n",
    "print(nombre)\n",
    "\n",
    "print(\"\\nPop\")\n",
    "ultimo = nombre.pop()\n",
    "print(nombre)\n",
    "print(ultimo)\n",
    "\n",
    "print(\"\\nDel\")\n",
    "del nombre[1]\n",
    "print(nombre)\n",
    "\n",
    "print(\"\\nRemove\")\n",
    "nombre.remove(\"Nala\")\n",
    "print(nombre)\n",
    "\n",
    "print(\"\\nSlicing\")\n",
    "print(nombre[::-1])\n",
    "nombre.append(\"Sandy\")\n",
    "print(nombre[1:2])\n",
    "print(nombre)\n",
    "\n",
    "print(\"\\nReverse\")\n",
    "nombre.reverse()\n",
    "print(nombre)"
   ]
  },
  {
   "source": [
    "# Tupla (Tuple)\n",
    "A diferencia de las listas, las tuplas son inmutable. Ojo, esto no quiere decir que los elementos no puedan cambiar de valor, pero el numero de elementos que tiene y sus referencias son estaticas.\n",
    "Para crear una tupla, los elementos iran entre (), o mediante tuple().\n",
    "Por su naturaleza, NO podemos:\n",
    "- Añadir ningun elemento (add, append, insert...)\n",
    "- Eliminar elementos (remove, del)\n"
   ],
   "cell_type": "markdown",
   "metadata": {}
  },
  {
   "cell_type": "code",
   "execution_count": 34,
   "metadata": {},
   "outputs": [
    {
     "output_type": "stream",
     "name": "stdout",
     "text": [
      "('Guille', 'Sandra', [1, 3, 2])\n0\nSandra\n('Guille', 'Sandra', [3, 2])\n"
     ]
    }
   ],
   "source": [
    "tupla =(\"Guille\",\"Sandra\",[1,3,2])\n",
    "print(tupla)\n",
    "print(tupla.index(\"Guille\"))\n",
    "print(tupla[1])\n",
    "\n",
    "tupla[2].remove(1)\n",
    "print(tupla)"
   ]
  },
  {
   "source": [
    "# Set\n",
    "Estas colecciones son muy similares a las listas pero con la diferencia que este no puede albergar valores repetidos y ordena los elmentos por su orden natural, por lo que no pueden ser indexados los elementos. Por lo tanto:\n",
    "- Para añadir solo tenemos el metodo add()\n",
    "- Para eliminar solo tenemos el metodo pop y remove\n",
    "- Para obtener los valores solo tenemos la opción de un bucle"
   ],
   "cell_type": "markdown",
   "metadata": {}
  },
  {
   "cell_type": "code",
   "execution_count": 19,
   "metadata": {},
   "outputs": [
    {
     "output_type": "stream",
     "name": "stdout",
     "text": [
      "{0, 1, 2}\nNumero 0 en la posición 0\nNumero 1 en la posición 1\nNumero 2 en la posición 2\n"
     ]
    }
   ],
   "source": [
    "lista = set()\n",
    "lista.add(5)\n",
    "lista.add(2)\n",
    "lista.add(1)\n",
    "lista.add(0)\n",
    "lista.remove(5)\n",
    "print(lista)\n",
    "for ind,n in enumerate(lista):\n",
    "    print(\"Numero {} en la posición {}\".format(ind,n))\n"
   ]
  }
 ]
}